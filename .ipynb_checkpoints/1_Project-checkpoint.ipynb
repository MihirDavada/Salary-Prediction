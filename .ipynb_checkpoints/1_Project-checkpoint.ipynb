{
 "cells": [
  {
   "cell_type": "markdown",
   "id": "6737bdaa",
   "metadata": {},
   "source": [
    "- Steps For Data Science Projects\n",
    "\n",
    "    - Project Planning\n",
    "    \n",
    "    - Data Collection\n",
    "    \n",
    "    - Data Cleaning\n",
    "    \n",
    "    - EDA \n",
    "    \n",
    "    - Model Building\n",
    "    \n",
    "    - Production"
   ]
  },
  {
   "cell_type": "markdown",
   "id": "495ac718",
   "metadata": {},
   "source": [
    "**Project Planning**"
   ]
  },
  {
   "cell_type": "markdown",
   "id": "24560309",
   "metadata": {},
   "source": [
    "- Predict The Salary Of Data Scientist Based On The Job Title , Company And Geography.\n"
   ]
  },
  {
   "cell_type": "markdown",
   "id": "e9bb1b5e",
   "metadata": {},
   "source": [
    "**Data Collection**"
   ]
  },
  {
   "cell_type": "markdown",
   "id": "c93408ea",
   "metadata": {},
   "source": [
    "- We Are Collecting The Data From Job Sites Like Linkden And Glassdoor\n",
    "\n",
    "\n",
    "- We Are Using Scraping For Data Collection.\n",
    "\n",
    "\n",
    "    - Scraping Is The Process Of Collecting Information From Web Pages.\n",
    "    \n",
    "\n",
    "- We Are Using Selenium Tool For Scraping."
   ]
  }
 ],
 "metadata": {
  "kernelspec": {
   "display_name": "Python 3 (ipykernel)",
   "language": "python",
   "name": "python3"
  },
  "language_info": {
   "codemirror_mode": {
    "name": "ipython",
    "version": 3
   },
   "file_extension": ".py",
   "mimetype": "text/x-python",
   "name": "python",
   "nbconvert_exporter": "python",
   "pygments_lexer": "ipython3",
   "version": "3.9.13"
  }
 },
 "nbformat": 4,
 "nbformat_minor": 5
}
